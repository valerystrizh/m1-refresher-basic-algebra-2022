{
 "cells": [
  {
   "cell_type": "code",
   "execution_count": 1,
   "metadata": {
    "slideshow": {
     "slide_type": "skip"
    }
   },
   "outputs": [],
   "source": [
    "%matplotlib inline\n",
    "import numpy as np\n",
    "import matplotlib.pyplot as plt\n",
    "\n",
    "x=np.linspace(-6, 6, 100)"
   ]
  },
  {
   "cell_type": "markdown",
   "metadata": {
    "slideshow": {
     "slide_type": "slide"
    }
   },
   "source": [
    "# Lecture 4: Derivatives"
   ]
  },
  {
   "cell_type": "markdown",
   "metadata": {
    "slideshow": {
     "slide_type": "slide"
    }
   },
   "source": [
    "## Recap of the previous lecture\n",
    "- Eigenvalues and eigenvectors \n",
    "- Similar matrices\n",
    "- Eigendecomposition\n",
    "- Matrix Powers"
   ]
  },
  {
   "cell_type": "markdown",
   "metadata": {
    "slideshow": {
     "slide_type": "slide"
    }
   },
   "source": [
    "## Today \n",
    "\n",
    "- Derivatives\n",
    "- Rules for derivatives\n",
    "- Partial derivatives\n",
    "- Higher order derivatives\n",
    "- Local maxima and minima"
   ]
  },
  {
   "cell_type": "markdown",
   "metadata": {
    "slideshow": {
     "slide_type": "slide"
    }
   },
   "source": [
    "# Derivatives and differentiation"
   ]
  },
  {
   "cell_type": "markdown",
   "metadata": {
    "slideshow": {
     "slide_type": "slide"
    }
   },
   "source": [
    "# Slope of a tangent line\n",
    "The computation of the slope of a tangent line at $x=a$ all required us to compute the following limit:\n",
    "$$\\lim_{x \\to a} \\frac{f(x)-f(a)}{x-a}$$\n",
    "\n",
    "<img src=\"slope.png\" style=\"height: 200px;\"> \n",
    "\n",
    "$$\n",
    "\\text{Slope} = \\frac{\\text{Change in Y}}{\\text{Change in X}} = \\frac{\\triangle y}{\\triangle x}\n",
    "$$"
   ]
  },
  {
   "cell_type": "markdown",
   "metadata": {
    "slideshow": {
     "slide_type": "slide"
    }
   },
   "source": [
    "$$\\lim_{x \\to a} \\frac{f(x)-f(a)}{x-a}$$\n",
    "could also be written as\n",
    "$$\\lim_{h \\to 0} \\frac{f(a+h)-f(a)}{h}$$"
   ]
  },
  {
   "cell_type": "markdown",
   "metadata": {
    "slideshow": {
     "slide_type": "slide"
    }
   },
   "source": [
    "# Defintion of the derivative\n",
    "\n",
    "The derivative of  with respect to x is the function and is defined as\n",
    "$$f'(x) = \\lim_{h \\to 0} \\frac{f(x+h)-f(x)}{h}$$"
   ]
  },
  {
   "cell_type": "markdown",
   "metadata": {
    "slideshow": {
     "slide_type": "slide"
    }
   },
   "source": [
    "# Differentiation\n",
    "A function $f(x)$ is called **differentiable** at $x=a$ if $f'(a)$ exists and $f(x)$ is called differentiable on an interval if the derivative exists for each point in that interval."
   ]
  },
  {
   "cell_type": "markdown",
   "metadata": {
    "slideshow": {
     "slide_type": "slide"
    }
   },
   "source": [
    "# Derivative notation\n",
    "\n",
    "$$\n",
    "y = f(x)\n",
    "$$\n",
    "\n",
    "differentiation operator: $\\frac{d}{dx}$\n",
    "\n",
    "first derivative of $y$ w.r.t. $x$: $\\dot{y}, y', f'(x), \\frac{dy}{dx}, \\frac{d}{dx}f(x)$\n",
    "\n",
    "second derivative of $y$ w.r.t. $x$: $\\ddot{y}, y'', f''(x), \\frac{d^2y}{dx^2}, \\frac{d^2}{dx^2}f(x)$"
   ]
  },
  {
   "cell_type": "markdown",
   "metadata": {
    "slideshow": {
     "slide_type": "slide"
    }
   },
   "source": [
    "# Rules for derivatives\n",
    "\n",
    "- The derivative of a constant\n",
    "- The power rule\n",
    "- The constant multiple rule\n",
    "- The sum rule\n",
    "- The product rule\n",
    "- The quotient rule\n",
    "- The chain rule\n",
    "- The power rule on a function chain"
   ]
  },
  {
   "cell_type": "markdown",
   "metadata": {
    "slideshow": {
     "slide_type": "slide"
    }
   },
   "source": [
    "# The derivative of a constant\n",
    "\n",
    "Assuming $ \\color{orange}c$ is constant: \n",
    "$$\n",
    "\\frac{d}{d\\color{violet}x}\\color{orange}c = 0\n",
    "$$\n",
    "\n",
    "Intuition: a constant has no variation so its slope is nothing, example:\n",
    "$$\n",
    "\\frac{d}{d\\color{violet}x}\\color{orange}{25} = 0\n",
    "$$"
   ]
  },
  {
   "cell_type": "markdown",
   "metadata": {
    "slideshow": {
     "slide_type": "slide"
    }
   },
   "source": [
    "# The power rule for derivatives\n",
    "$$\n",
    "\\frac{d}{d\\color{violet}x}\\color{violet}x ^ {\\color{green}n} = \\color{green}n \\color{violet}x ^ {\\color{green}n - 1}\n",
    "$$\n",
    "\n",
    "Exercise: \n",
    "$$\n",
    "\\frac{d}{d\\color{violet}x}\\color{violet}x ^ {\\color{green}4} = ?\n",
    "$$"
   ]
  },
  {
   "cell_type": "markdown",
   "metadata": {
    "slideshow": {
     "slide_type": "slide"
    }
   },
   "source": [
    "# The power rule for derivatives\n",
    "$$\n",
    "\\frac{d}{d\\color{violet}x}\\color{violet}x ^ {\\color{green}n} = \\color{green}n \\color{violet}x ^ {\\color{green}n - 1}\n",
    "$$\n",
    "\n",
    "Solution: \n",
    "$$\n",
    "\\frac{d}{d\\color{violet}x}\\color{violet}x ^ {\\color{green}4} = \\color{green}4 \\color{violet}x ^ {\\color{green}4 - 1} = 4\\color{violet}x^3\n",
    "$$"
   ]
  },
  {
   "cell_type": "markdown",
   "metadata": {
    "slideshow": {
     "slide_type": "slide"
    }
   },
   "source": [
    "# The constant multiple rule for derivatives\n",
    "\n",
    "$$\n",
    "\\frac{d}{d\\color{violet}x}(\\color{orange}c \\color{blue}y) = \\color{orange}c \\frac{d}{d\\color{violet}x}( \\color{blue}y) = \\color{orange}c \\frac{d\\color{blue}y}{d\\color{violet}x}\n",
    "$$\n",
    "\n",
    "Exercise:\n",
    "$$\n",
    "\\color{blue}y = \\color{orange}2 \\color{violet}x ^ {\\color{green}4}\n",
    "$$\n",
    "\n",
    "$$\n",
    "\\frac{d\\color{blue}y}{d\\color{violet}x} = ?\n",
    "$$"
   ]
  },
  {
   "cell_type": "markdown",
   "metadata": {
    "slideshow": {
     "slide_type": "slide"
    }
   },
   "source": [
    "# The constant multiple rule for derivatives\n",
    "\n",
    "$$\n",
    "\\frac{d}{d\\color{violet}x}(\\color{orange}c \\color{blue}y) = \\color{orange}c \\frac{d}{d\\color{violet}x}( \\color{blue}y) = \\color{orange}c \\frac{d\\color{blue}y}{d\\color{violet}x}\n",
    "$$\n",
    "\n",
    "Exercise:\n",
    "$$\n",
    "\\color{blue}y = \\color{orange}2 \\color{violet}x ^ {\\color{green}4}\n",
    "$$\n",
    "$$\n",
    "\\frac{d\\color{blue}y}{d\\color{violet}x} = ?\n",
    "$$\n",
    "Solution:\n",
    "$$\n",
    "\\frac{d\\color{blue}y}{d\\color{violet}x} = \\color{orange}2 (4 \\color{violet}x ^ 3) = 8 \\color{violet}x ^ 3\n",
    "$$"
   ]
  },
  {
   "cell_type": "markdown",
   "metadata": {
    "slideshow": {
     "slide_type": "slide"
    }
   },
   "source": [
    "# The sum rule for derivatives\n",
    "\n",
    "$$\n",
    "\\frac{d(\\color{blue}y + \\color{green}w)}{dx} = \\frac{d\\color{blue}y}{dx} + \\frac{d\\color{green}w}{dx}\n",
    "$$\n",
    "\n",
    "Exercise:\n",
    "$$\n",
    "\\color{blue}y = \\color{blue}{x^4} \n",
    "$$\n",
    "$$\n",
    "\\color{green}w = \\color{green}{x^9} \n",
    "$$\n",
    "$$\n",
    "\\frac{d(\\color{blue}y + \\color{green}w)}{dx} = ?\n",
    "$$"
   ]
  },
  {
   "cell_type": "markdown",
   "metadata": {
    "slideshow": {
     "slide_type": "slide"
    }
   },
   "source": [
    "# The sum rule for derivatives\n",
    "\n",
    "$$\n",
    "\\frac{d(\\color{blue}y + \\color{green}w)}{dx} = \\frac{d\\color{blue}y}{dx} + \\frac{d\\color{green}w}{dx}\n",
    "$$\n",
    "\n",
    "Exercise:\n",
    "$$\n",
    "\\color{blue}y = \\color{blue}{x^4} \n",
    "$$\n",
    "$$\n",
    "\\color{green}w = \\color{green}{x^9} \n",
    "$$\n",
    "$$\n",
    "\\frac{d(\\color{blue}y + \\color{green}w)}{dx} = ?\n",
    "$$\n",
    "\n",
    "Solution:\n",
    "$$\n",
    "\\frac{d(\\color{blue}y + \\color{green}w)}{dx} = \\frac{d\\color{blue}y}{dx} + \\frac{d\\color{green}w}{dx} = \\frac{d}{dx} \\color{blue}{x^4} + \\frac{d}{dx}\\color{green}{x^9} = 4x^3 + 9x^8\n",
    "$$"
   ]
  },
  {
   "cell_type": "markdown",
   "metadata": {
    "slideshow": {
     "slide_type": "slide"
    }
   },
   "source": [
    "# Exercises on derivatives rules\n",
    "Differentiate\n",
    "- $y = -5x^3$\n",
    "- $y = 2x^2 + 2x + 2$\n",
    "- $y = 10 x ^5 -6x^3 - x -1$"
   ]
  },
  {
   "cell_type": "markdown",
   "metadata": {
    "slideshow": {
     "slide_type": "slide"
    }
   },
   "source": [
    "# Solutions \n",
    "- $y = -5x^3$\n",
    "$$\n",
    "\\frac{dy}{dx} = -5 (3x^2) = -15x^2\n",
    "$$\n",
    "- $y = 2x^2 + 2x + 2$\n",
    "$$\n",
    "\\frac{dy}{dx} = 2 (2x') + 2(1x^0) + 0 = 2(2x) + 2(1) = 4x + 2\n",
    "$$\n",
    "- $y = 10 x ^5 -6x^3 - x -1$\n",
    "$$\n",
    "\\frac{dy}{dx} = 10(5x^4) - 6(3x^2) - 1x^0 - 0 = 50x^4 - 18x^2 - 1\n",
    "$$"
   ]
  },
  {
   "cell_type": "markdown",
   "metadata": {
    "slideshow": {
     "slide_type": "slide"
    }
   },
   "source": [
    "# The product rule for derivatives\n",
    "\n",
    "$$\n",
    "\\frac{d(\\color{green}w \\color{orange}z)}{dx} = \\color{green}w \\frac{d\\color{orange}z}{dx} + \\color{orange}z \\frac{d\\color{green}w}{dx}\n",
    "$$\n",
    "\n",
    "Exercise:\n",
    "$$\n",
    "\\color{blue}y = (6x^3)(7x^4)\n",
    "$$\n",
    "\n",
    "$$\n",
    "\\frac{d\\color{blue}y}{d x} = ?\n",
    "$$"
   ]
  },
  {
   "cell_type": "markdown",
   "metadata": {
    "slideshow": {
     "slide_type": "slide"
    }
   },
   "source": [
    "# The product rule for derivatives\n",
    "\n",
    "$$\n",
    "\\frac{d(\\color{green}w \\color{orange}z)}{dx} = \\color{green}w \\frac{d\\color{orange}z}{dx} + \\color{orange}z \\frac{d\\color{green}w}{dx}\n",
    "$$\n",
    "\n",
    "Exercise:\n",
    "$$\n",
    "\\color{blue}y = (6x^3)(7x^4)\n",
    "$$\n",
    "\n",
    "$$\n",
    "\\frac{d\\color{blue}y}{d x} = ?\n",
    "$$\n",
    "\n",
    "Solution:\n",
    "$$\n",
    "\\color{green}w = 6 x^3, \\frac{d\\color{green}w}{dx} = 18 x^2\n",
    "$$\n",
    "$$\n",
    "\\color{orange}z = 7x^4, \\frac{d\\color{orange}z}{dx} = 28 x^3\n",
    "$$\n",
    "$$\n",
    "\\frac{d\\color{blue}y}{d x} = \\frac{d(\\color{green}w \\color{orange}z)}{dx} = \\color{green}w \\frac{d\\color{orange}z}{dx} + \\color{orange}z \\frac{d\\color{green}w}{dx} = (6x^3)(28x^3) + (7x^4)(18x^2) = 294 x^6\n",
    "$$"
   ]
  },
  {
   "cell_type": "markdown",
   "metadata": {
    "slideshow": {
     "slide_type": "slide"
    }
   },
   "source": [
    "# The quotient rule for derivatives\n",
    "\n",
    "$$\n",
    "\\frac{d}{dx} (\\frac{\\color{green}w}{\\color{orange}z}) = \\frac{\\color{orange}z \\frac{d\\color{green}w}{dx} - \\color{green}w \\frac{d\\color{orange}z}{dx}}{\\color{orange}z^2}\n",
    "$$\n",
    "\n",
    "Exercise:\n",
    "\n",
    "$$\n",
    "\\color{blue}y = \\frac{4x^2}{x^3 + 1}\n",
    "$$\n",
    "\n",
    "$$\n",
    "\\frac{d\\color{blue}y}{d x} = ?\n",
    "$$\n",
    "\n"
   ]
  },
  {
   "cell_type": "markdown",
   "metadata": {
    "slideshow": {
     "slide_type": "slide"
    }
   },
   "source": [
    "# The quotient rule for derivatives\n",
    "\n",
    "$$\n",
    "\\frac{d}{dx} (\\frac{\\color{green}w}{\\color{orange}z}) = \\frac{\\color{orange}z \\frac{d\\color{green}w}{dx} - \\color{green}w \\frac{d\\color{orange}z}{dx}}{\\color{orange}z^2}\n",
    "$$\n",
    "\n",
    "Exercise:\n",
    "$$\n",
    "\\color{blue}y = \\frac{4x^2}{x^3 + 1}\n",
    "$$\n",
    "$$\n",
    "\\frac{d\\color{blue}y}{d x} = ?\n",
    "$$\n",
    "\n",
    "Solution:\n",
    "$$\n",
    "\\color{green}w = 4x^2, \\frac{d\\color{green}w}{dx} = 8x\n",
    "$$\n",
    "$$\n",
    "\\color{orange}z = x^3 + 1, \\frac{d\\color{orange}z}{dx} = 3x^2\n",
    "$$\n",
    "$$\n",
    "\\frac{d\\color{blue}y}{d x} = \\frac{d}{dx} (\\frac{\\color{green}w}{\\color{orange}z}) = \\frac{(x^3 + 1)(8x) - (4x^2)(3x^2)}{(x^3 + 1)^2} = \n",
    "\\frac{8x^4 + 8x -12x^4}{(x^3 + 1)^2} = \n",
    "\\frac{-4x^4 + 8x}{(x^3 + 1)^2}\n",
    "$$"
   ]
  },
  {
   "cell_type": "markdown",
   "metadata": {
    "slideshow": {
     "slide_type": "slide"
    }
   },
   "source": [
    "# The chain rule for derivatives\n",
    "$$\n",
    "\\frac{d\\color{blue}y}{d\\color{violet}x} = \n",
    "\\frac{d\\color{blue}y}{d\\color{orange}u} \\frac{d\\color{orange}u}{d\\color{violet}x}\n",
    "$$\n",
    "\n",
    "$$\n",
    "\\color{blue}y = (2\\color{violet}x^2 + 8) ^ 2\n",
    "$$\n",
    "$$\n",
    "\\color{orange} u = 2\\color{violet}x^2 + 8, \\color{blue}y = \\color{orange} u^2\n",
    "$$\n",
    "\n",
    "$\\color{blue}y$ is a function of $\\color{orange} u$:\n",
    "$$\n",
    "\\frac{d\\color{blue}y}{d \\color{orange}u} = 2 \\color{orange}u = 2(2\\color{violet}x^2 + 8) = 4\\color{violet}x^2 + 16\n",
    "$$\n",
    "\n",
    "$\\color{orange} u$ is a function of $\\color{violet}x$:\n",
    "$$\n",
    "\\frac{d\\color{orange}u}{d \\color{violet}x} = 4 \\color{violet}x\n",
    "$$\n",
    "\n",
    "Chain rule is easy way to find derivative of nested fuction:\n",
    "$$\n",
    "\\frac{d\\color{blue}y}{d\\color{violet}x} = \n",
    "\\frac{d\\color{blue}y}{d\\color{orange}u} \\frac{d\\color{orange}u}{d\\color{violet}x} =\n",
    "(4\\color{violet}x^2 + 16)(4\\color{violet}x) = 16\\color{violet}x^3 + 64\\color{violet}x\n",
    "$$"
   ]
  },
  {
   "cell_type": "markdown",
   "metadata": {
    "slideshow": {
     "slide_type": "slide"
    }
   },
   "source": [
    "# The power rule on a function chain\n",
    "\n",
    "$$\n",
    "\\frac{d}{d\\color{violet}x}\\color{orange}u ^ {\\color{green}n} = \\color{green}n \\color{orange}u ^ {\\color{green}n - 1} \\frac{d \\color{orange}u}{d\\color{violet}x}\n",
    "$$\n",
    "\n",
    "Exercise:\n",
    "$$\n",
    "\\color{blue}y = (3\\color{violet}x + 1) ^ {\\color{green}2}\n",
    "$$\n",
    "$$\n",
    "\\frac{d\\color{blue}y}{d\\color{violet}x} = ?\n",
    "$$"
   ]
  },
  {
   "cell_type": "markdown",
   "metadata": {
    "slideshow": {
     "slide_type": "slide"
    }
   },
   "source": [
    "# The power rule on a function chain\n",
    "\n",
    "$$\n",
    "\\frac{d}{d\\color{violet}x}\\color{orange}u ^ {\\color{green}n} = \\color{green}n \\color{orange}u ^ {\\color{green}n - 1} \\frac{d \\color{orange}u}{d\\color{violet}x}\n",
    "$$\n",
    "\n",
    "Exercise:\n",
    "$$\n",
    "\\color{blue}y = (3\\color{violet}x + 1) ^ {\\color{green}2}\n",
    "$$\n",
    "$$\n",
    "\\frac{d\\color{blue}y}{d\\color{violet}x} = ?\n",
    "$$\n",
    "\n",
    "Solution:\n",
    "$$\n",
    "\\frac{d\\color{blue}y}{d\\color{violet}x} = \\frac{d}{d\\color{violet}x}\\color{orange}u ^ {\\color{green}n} = \\color{green}n \\color{orange}u ^ {\\color{green}n - 1} \\frac{d \\color{orange}u}{d\\color{violet}x} = (\\color{green}2(3 \\color{violet}x + 1))(3) = 18x + 6\n",
    "$$"
   ]
  },
  {
   "cell_type": "markdown",
   "metadata": {
    "slideshow": {
     "slide_type": "slide"
    }
   },
   "source": [
    "# Advanced exercises on derivative rules\n",
    "\n",
    "Differentiate:\n",
    "- $y = (2x^2 + 6x)(2x^3 + 5x^2)$\n",
    "- $y = \\frac{6x^2}{2 - x}$\n",
    "- $y = (x^2 + 5x)^6$"
   ]
  },
  {
   "cell_type": "markdown",
   "metadata": {
    "slideshow": {
     "slide_type": "slide"
    }
   },
   "source": [
    "# Solutions\n",
    "\n",
    "- $y = (2x^2 + 6x)(2x^3 + 5x^2)$\n",
    "\n",
    "$\n",
    "\\frac{dy}{dx} = 20x^4 + 88x^3 + 90x^2\n",
    "$\n",
    "- $y = \\frac{6x^2}{2 - x}$\n",
    "\n",
    "$\n",
    "\\frac{dy}{dx} = \\frac{24x - 6x^2}{(2 - x)^2}\n",
    "$\n",
    "\n",
    "- $y = (x^2 + 5x)^6$\n",
    "\n",
    "$\n",
    "\\frac{dy}{dx} = 6(x^2 + 5x)^5 (2x+5)\n",
    "$"
   ]
  },
  {
   "cell_type": "markdown",
   "metadata": {
    "slideshow": {
     "slide_type": "slide"
    }
   },
   "source": [
    "# Partial derivatives\n",
    "- For a multivariable function, like $f(x, y) = x^2y$ computing partial derivatives looks:\n",
    "\n",
    "$$\n",
    "\\frac{\\partial f}{\\partial x} = \\frac{\\partial}{\\partial x} x^2y = 2xy\n",
    "$$\n",
    "$$\n",
    "\\text{(treat y as constant)}\n",
    "$$\n",
    "\n",
    "$$\n",
    "\\frac{\\partial f}{\\partial y} = \\frac{\\partial}{\\partial y} x^2y = x^2 \n",
    "$$\n",
    "$$\n",
    "\\text{(treat x as constant)}\n",
    "$$\n",
    "\n",
    "- This symbol $\\partial$, often called \"del\", is used to distinguish partial derivatives from ordinary single-variable derivatives.\n",
    "- The reason for a new type of derivative is that when the input of a function is made up of multiple variables, we want to see how the function changes as we let just one of those variables change while holding all the others constant.\n",
    "\n",
    "<img src=\"del.png\" style=\"height: 200px;\"> "
   ]
  },
  {
   "cell_type": "markdown",
   "metadata": {
    "slideshow": {
     "slide_type": "slide"
    }
   },
   "source": [
    "# Partial derivative notation\n",
    "$$\n",
    "z = f(x, y)\n",
    "$$\n",
    "\n",
    "$$\n",
    "\\frac{\\partial z}{\\partial x}, \\frac{\\partial f}{\\partial x}, f_x\n",
    "$$\n",
    "$$\n",
    "\\frac{\\partial^2 z}{\\partial x^2}, \\frac{\\partial^2 f}{\\partial x^2}, f_{xx}\n",
    "$$"
   ]
  },
  {
   "cell_type": "markdown",
   "metadata": {
    "slideshow": {
     "slide_type": "slide"
    }
   },
   "source": [
    "# The chain rule for partial derivatives\n",
    "$$\n",
    "\\color{blue}y = f(\\color{orange}u, \\color{green}v), \\color{orange}u = g(\\color{violet}x, \\color{pink}z), \\color{green}v = h(\\color{violet}x, \\color{pink}z)\n",
    "$$\n",
    "\n",
    "$$\n",
    "\\frac{\\partial\\color{blue}y}{\\partial\\color{violet}x} = \n",
    "\\frac{\\partial \\color{blue}y}{\\partial \\color{orange}u} \\frac{\\partial \\color{orange}u}{\\partial \\color{violet}x} +\n",
    "\\frac{\\partial \\color{blue}y}{\\partial \\color{green}v} \\frac{\\partial \\color{green}v}{\\partial \\color{violet}x}\n",
    "$$\n",
    "\n",
    "$$\n",
    "\\frac{\\partial \\color{blue}y}{\\partial \\color{pink}z} = \n",
    "\\frac{\\partial \\color{blue}y}{d\\color{orange}u} \\frac{\\partial\\color{orange}u}{\\partial \\color{pink}z} +\n",
    "\\frac{\\partial \\color{blue}y}{\\partial \\color{green}v} \\frac{\\partial \\color{green}v}{\\partial \\color{pink}z}\n",
    "$$"
   ]
  },
  {
   "cell_type": "markdown",
   "metadata": {
    "slideshow": {
     "slide_type": "slide"
    }
   },
   "source": [
    "# Exercises on the multivariate chain rule\n",
    "$$\n",
    "\\color{blue}y = f(\\color{orange}u, \\color{green}v), \\color{orange}u = g(\\color{violet}x), \\color{green}v = h(\\color{violet}x, \\color{pink}z)\n",
    "$$\n",
    "\n",
    "$$\n",
    "\\frac{\\partial \\color{blue}y}{\\partial \\color{violet}x} = ?\n",
    "$$\n",
    "\n",
    "$$\n",
    "\\frac{\\partial \\color{blue}y}{\\partial \\color{pink}z} = ?\n",
    "$$"
   ]
  },
  {
   "cell_type": "markdown",
   "metadata": {
    "slideshow": {
     "slide_type": "slide"
    }
   },
   "source": [
    "# Solution\n",
    "$$\n",
    "\\color{blue}y = f(\\color{orange}u, \\color{green}v), \\color{orange}u = g(\\color{violet}x), \\color{green}v = h(\\color{violet}x, \\color{pink}z)\n",
    "$$\n",
    "\n",
    "$$\n",
    "\\frac{\\partial \\color{blue}y}{\\partial \\color{violet}x} = \n",
    "\\frac{\\partial \\color{blue}y}{\\partial \\color{orange}u} \\frac{\\partial \\color{orange}u}{\\partial \\color{violet}x} +\n",
    "\\frac{\\partial\\color{blue}y}{\\partial \\color{green}v} \\frac{\\partial \\color{green}v}{\\partial \\color{violet}x}\n",
    "$$\n",
    "\n",
    "$$\n",
    "\\frac{\\partial \\color{blue}y}{\\partial\\color{pink}z} = \n",
    "\\frac{\\partial \\color{blue}y}{\\partial \\color{green}v} \\frac{\\partial\\color{green}v}{\\partial\\color{pink}z}\n",
    "$$"
   ]
  },
  {
   "cell_type": "markdown",
   "metadata": {
    "slideshow": {
     "slide_type": "slide"
    }
   },
   "source": [
    "# Higher-order partial derivatives\n",
    "\n",
    "$$\n",
    "\\color{orange}z = \\color{violet} x^2 + 5 \\color{violet} x \\color{blue}y + 2\\color{blue}y^2\n",
    "$$\n",
    "\n",
    "Consider the following first-order partial derivatives:\n",
    "$$\n",
    "\\frac{\\partial \\color{orange}z}{\\partial \\color{violet}x} = \n",
    "2\\color{violet}x + 5 \\color{blue}y (\\color{violet} 1) + 0 = \n",
    "2\\color{violet}x + 5 \\color{blue}y\n",
    "$$\n",
    "$$\n",
    "\\frac{\\partial \\color{orange}z}{\\partial \\color{blue}y} =\n",
    "0 + 5 \\color{violet}x (\\color{blue} 1) + 2 (2 \\color{blue}y) = 5 \\color{violet}x + 4 \\color{blue}y\n",
    "$$\n",
    "\n",
    "Unmixed:\n",
    "$$\n",
    "\\frac{\\partial^2 \\color{orange}z}{\\partial \\color{violet}x^2} = \n",
    "\\frac{\\partial}{\\partial \\color{violet}x} (\\frac{\\partial \\color{orange}z}{\\partial \\color{violet}x}) =\n",
    "\\frac{\\partial}{\\partial \\color{violet}x} (2\\color{violet}x + 5 \\color{blue}y) = 2(\\color{violet} 1) + 0 = 2\n",
    "$$\n",
    "$$\n",
    "\\frac{\\partial^2 \\color{orange}z}{\\partial \\color{blue}y^2} =\n",
    "\\frac{\\partial}{\\partial \\color{blue}y} (\\frac{\\partial \\color{orange}z}{\\partial \\color{blue}y}) =\n",
    "\\frac{\\partial}{\\partial \\color{blue}y} (5 \\color{violet}x + 4 \\color{blue}y) = 0 + 4(\\color{blue} 1) = 4\n",
    "$$\n"
   ]
  },
  {
   "cell_type": "markdown",
   "metadata": {
    "slideshow": {
     "slide_type": "slide"
    }
   },
   "source": [
    "# Higher-order partial derivatives\n",
    "\n",
    "$$\n",
    "\\color{orange}z = \\color{violet} x^2 + 5 \\color{violet} x \\color{blue}y + 2\\color{blue}y^2\n",
    "$$\n",
    "\n",
    "Consider the following first-order partial derivatives:\n",
    "$$\n",
    "\\frac{\\partial \\color{orange}z}{\\partial \\color{violet}x} = \n",
    "2\\color{violet}x + 5 \\color{blue}y (\\color{violet} 1) + 0 = \n",
    "2\\color{violet}x + 5 \\color{blue}y\n",
    "$$\n",
    "$$\n",
    "\\frac{\\partial \\color{orange}z}{\\partial \\color{blue}y} =\n",
    "0 + 5 \\color{violet}x (\\color{blue} 1) + 2 (2 \\color{blue}y) = 5 \\color{violet}x + 4 \\color{blue}y\n",
    "$$\n",
    "\n",
    "Mixed:\n",
    "$$\n",
    "\\frac{\\partial^2 \\color{orange}z}{\\partial \\color{violet}x \\partial \\color{blue}y} = \n",
    "\\frac{\\partial}{\\partial \\color{violet}x} (\\frac{\\partial \\color{orange}z}{\\partial \\color{blue}y}) = \n",
    "\\frac{\\partial}{\\partial \\color{violet}x} (5 \\color{violet}x + 4 \\color{blue}y) = \n",
    "5 (\\color{violet} 1) + 0 = 5\n",
    "$$\n",
    "$$\n",
    "\\frac{\\partial^2 \\color{orange}z}{\\partial \\color{blue}y \\partial \\color{violet}x} = \n",
    "\\frac{\\partial}{\\partial \\color{blue}y} (\\frac{\\partial \\color{orange}z}{\\partial \\color{violet}x}) =\n",
    "\\frac{\\partial}{\\partial \\color{blue}y} (2 \\color{violet}x + 5 \\color{blue}y) =\n",
    "0 + 5(\\color{blue} 1) = 5\n",
    "$$\n",
    "\n",
    "Schwartz's Theorem:\n",
    "\n",
    "Under certain conditions $\\frac{\\partial^2 \\color{orange}z}{\\partial \\color{violet}x \\partial \\color{blue}y} = \\frac{\\partial^2 \\color{orange}z}{\\partial \\color{blue}y \\partial \\color{violet}x}\n",
    "$"
   ]
  },
  {
   "cell_type": "markdown",
   "metadata": {
    "slideshow": {
     "slide_type": "slide"
    }
   },
   "source": [
    "# Hessian matrix\n",
    "\n",
    "$$\n",
    "\\color{orange}z = \\color{violet} x^2 + 5 \\color{violet} x \\color{blue}y + 2\\color{blue}y^2\n",
    "$$\n",
    "\n",
    "$$\n",
    "H_{z}=\n",
    "\\begin{bmatrix}\n",
    "  \\dfrac{\\partial^{2}z}{\\partial x^{2}} & \\dfrac{\\partial ^{2}z}{\\partial x\\,\\partial y}\\\\[2ex] \n",
    "  \\dfrac{\\partial^{2}z}{\\partial y\\,\\partial x}&\\dfrac{\\partial^{2}z}{\\partial y^{2}}\n",
    "  \\end{bmatrix}\n",
    "  =\n",
    "  \\begin{bmatrix}\n",
    "  2 & 5\\\\[2ex] \n",
    "  5 & 4\n",
    "  \\end{bmatrix}\n",
    "  $$"
   ]
  },
  {
   "cell_type": "markdown",
   "metadata": {
    "slideshow": {
     "slide_type": "slide"
    }
   },
   "source": [
    "# Gradient\n",
    "The gradient of a function $f$, denoted as $\\nabla f$, is the collection of all its partial derivatives into a vector:\n",
    "<img src=\"gradient.png\" style=\"height: 200px;\"> "
   ]
  },
  {
   "cell_type": "markdown",
   "metadata": {
    "slideshow": {
     "slide_type": "slide"
    }
   },
   "source": [
    "# Local maxima and minima\n",
    "\n",
    "Derivatives help us to find any local maxima and minima.\n",
    "\n",
    "find $f'(x)$ set it equal to zero and solve"
   ]
  },
  {
   "cell_type": "code",
   "execution_count": 2,
   "metadata": {
    "slideshow": {
     "slide_type": "fragment"
    }
   },
   "outputs": [
    {
     "data": {
      "image/png": "[encoded data removed]",
      "text/plain": [
       "<Figure size 432x288 with 1 Axes>"
      ]
     },
     "metadata": {
      "needs_background": "light"
     },
     "output_type": "display_data"
    }
   ],
   "source": [
    "fig, ax = plt.subplots()\n",
    "ax.plot(x, x ** 3 - 3 * x ** 2 + 1)\n",
    "\n",
    "ax.text(-4.4, -1.8,'$f(x) = x^3 - 3x^2 + 1$')\n",
    "\n",
    "ax.set_xlim(-6,6)\n",
    "ax.set_ylim(-4,4)\n",
    "ax.axvline(color='k',linewidth = 1)\n",
    "ax.axhline(color='k',linewidth = 1)\n",
    "\n",
    "ax.set_xticks(list(range(-6,6)))\n",
    "ax.set_aspect('equal')\n",
    "ax.grid(True,ls=':')"
   ]
  },
  {
   "cell_type": "markdown",
   "metadata": {
    "slideshow": {
     "slide_type": "slide"
    }
   },
   "source": [
    "# Finding local maxima and minima by differentiation\n",
    "\n",
    "$$f(x) = x^3 - 3x^2 + 1$$\n",
    "$f(x)$ has one local maximum and one local minimum\n",
    "\n",
    "$f'(x) = 3x^2 - 6x$\n",
    "\n",
    "$f'(x) = 3x(x-2)$\n",
    "\n",
    "find the inputs where $f'(x) = 0$:\n",
    "\n",
    "$3x(x-2) = 0$\n",
    "\n",
    "$x_1 = 0, x_2 = 2$"
   ]
  },
  {
   "cell_type": "code",
   "execution_count": 3,
   "metadata": {
    "slideshow": {
     "slide_type": "fragment"
    }
   },
   "outputs": [
    {
     "data": {
      "image/png": "[encoded data removed]",
      "text/plain": [
       "<Figure size 432x288 with 1 Axes>"
      ]
     },
     "metadata": {
      "needs_background": "light"
     },
     "output_type": "display_data"
    }
   ],
   "source": [
    "fig, ax = plt.subplots()\n",
    "ax.plot(x, x ** 3 - 3 * x ** 2 + 1)\n",
    "ax.plot(x,x/x)\n",
    "ax.plot(x,-x/x * 3)\n",
    "\n",
    "ax.text(-4.4, -1.8,'$f(x) = x^3 - 3x^2 + 1$')\n",
    "\n",
    "ax.set_xlim(-6,6)\n",
    "ax.set_ylim(-4,4)\n",
    "ax.axvline(color='k',linewidth = 1)\n",
    "ax.axhline(color='k',linewidth = 1)\n",
    "\n",
    "ax.set_xticks(list(range(-6,6)))\n",
    "ax.set_aspect('equal')\n",
    "ax.grid(True,ls=':')"
   ]
  },
  {
   "cell_type": "markdown",
   "metadata": {
    "slideshow": {
     "slide_type": "slide"
    }
   },
   "source": [
    "# Finding local maxima and minima by differentiation\n",
    "\n",
    "$f(x) = x^3$ has no maxima/minima"
   ]
  },
  {
   "cell_type": "code",
   "execution_count": 4,
   "metadata": {
    "slideshow": {
     "slide_type": "fragment"
    }
   },
   "outputs": [
    {
     "data": {
      "image/png": "[encoded data removed]",
      "text/plain": [
       "<Figure size 432x288 with 1 Axes>"
      ]
     },
     "metadata": {
      "needs_background": "light"
     },
     "output_type": "display_data"
    }
   ],
   "source": [
    "fig, ax = plt.subplots()\n",
    "ax.plot(x, x ** 3)\n",
    "\n",
    "ax.text(1.2, 1.2,'$f(x) = x^3$')\n",
    "\n",
    "ax.set_xlim(-2,2)\n",
    "ax.set_ylim(-2,2)\n",
    "ax.axvline(color='k',linewidth = 1)\n",
    "ax.axhline(color='k',linewidth = 1)\n",
    "\n",
    "ax.set_xticks(list(range(-2,2)))\n",
    "ax.set_aspect('equal')\n",
    "ax.grid(True,ls=':')"
   ]
  },
  {
   "cell_type": "markdown",
   "metadata": {
    "slideshow": {
     "slide_type": "slide"
    }
   },
   "source": [
    "# Finding local maxima and minima by differentiation\n",
    "\n",
    "$f(x) = sin x$ has an absolute maximum and absolute minimum"
   ]
  },
  {
   "cell_type": "code",
   "execution_count": 5,
   "metadata": {
    "slideshow": {
     "slide_type": "fragment"
    }
   },
   "outputs": [
    {
     "data": {
      "image/png": "[encoded data removed]",
      "text/plain": [
       "<Figure size 432x288 with 1 Axes>"
      ]
     },
     "metadata": {
      "needs_background": "light"
     },
     "output_type": "display_data"
    }
   ],
   "source": [
    "fig, ax = plt.subplots()\n",
    "ax.plot(x, np.sin(x))\n",
    "ax.plot(x,x/x)\n",
    "ax.plot(x,-x/x)\n",
    "\n",
    "ax.text(.8, 1.2,'$f(x) = sin(x)$')\n",
    "\n",
    "ax.set_xlim(-5,5)\n",
    "ax.set_ylim(-2,2)\n",
    "ax.axvline(color='k',linewidth = 1)\n",
    "ax.axhline(color='k',linewidth = 1)\n",
    "\n",
    "ax.set_xticks(list(range(-5,5)))\n",
    "ax.set_aspect('equal')\n",
    "ax.grid(True,ls=':')"
   ]
  },
  {
   "cell_type": "markdown",
   "metadata": {
    "slideshow": {
     "slide_type": "slide"
    }
   },
   "source": [
    "# Finding local maxima and minima by differentiation\n",
    "\n",
    "$$f(x) = \\frac{x}{x^2+1}$$\n",
    "$$f'(x) = \\frac{(x^2+1) - (x)(2x)}{(x^2+1)^2}$$\n",
    "$$f'(x) = \\frac{-x^2 + 1}{(x^2+1)^2}$$\n",
    "$$-x^2 + 1 = 0$$\n",
    "$$x^2 = 1$$\n",
    "$$x = 1, -1$$"
   ]
  },
  {
   "cell_type": "code",
   "execution_count": 6,
   "metadata": {
    "slideshow": {
     "slide_type": "fragment"
    }
   },
   "outputs": [
    {
     "data": {
      "image/png": "[encoded data removed]",
      "text/plain": [
       "<Figure size 432x288 with 1 Axes>"
      ]
     },
     "metadata": {
      "needs_background": "light"
     },
     "output_type": "display_data"
    }
   ],
   "source": [
    "fig, ax = plt.subplots()\n",
    "ax.plot(x, x/(x**2+1))\n",
    "ax.plot(x,x/x * .5)\n",
    "ax.plot(x,-x/x * .5)\n",
    "\n",
    "ax.text(.5, .7,'$f(x) = x/(x^2+1)$')\n",
    "\n",
    "ax.set_xlim(-2,2)\n",
    "ax.set_ylim(-1.5, 1.5)\n",
    "ax.axvline(color='k',linewidth = 1)\n",
    "ax.axhline(color='k',linewidth = 1)\n",
    "\n",
    "ax.set_xticks(list(range(-2,2)))\n",
    "ax.set_aspect('equal')\n",
    "ax.grid(True,ls=':')"
   ]
  },
  {
   "cell_type": "markdown",
   "metadata": {
    "slideshow": {
     "slide_type": "slide"
    }
   },
   "source": [
    "# Exercise\n",
    "Find the coordinates of any local maxima and minima that are present within the following function:\n",
    "    \n",
    "$$f(x) = x^3 - 12x + 1$$"
   ]
  },
  {
   "cell_type": "markdown",
   "metadata": {
    "slideshow": {
     "slide_type": "slide"
    }
   },
   "source": [
    "# Solution\n",
    "    \n",
    "$$f(x) = x^3 - 12x + 1$$\n",
    "$$f'(x) = 3 x^2 - 12$$\n",
    "$$3x^2 - 12 = 0$$\n",
    "$$x^2 = 4$$\n",
    "$$x = 2, -2$$\n",
    "$$f(2) = 8 - 24 + 1 = -15$$\n",
    "$$f(-2) = -8 + 24 + 1 = 17$$\n",
    "$$(-2, 17), (2, -15)$$"
   ]
  },
  {
   "cell_type": "markdown",
   "metadata": {
    "slideshow": {
     "slide_type": "slide"
    }
   },
   "source": [
    "## Questions?"
   ]
  }
 ],
 "metadata": {
  "celltoolbar": "Slideshow",
  "kernelspec": {
   "display_name": "Python 3",
   "language": "python",
   "name": "python3"
  },
  "language_info": {
   "codemirror_mode": {
    "name": "ipython",
    "version": 3
   },
   "file_extension": ".py",
   "mimetype": "text/x-python",
   "name": "python",
   "nbconvert_exporter": "python",
   "pygments_lexer": "ipython3",
   "version": "3.7.6"
  }
 },
 "nbformat": 4,
 "nbformat_minor": 4
}
