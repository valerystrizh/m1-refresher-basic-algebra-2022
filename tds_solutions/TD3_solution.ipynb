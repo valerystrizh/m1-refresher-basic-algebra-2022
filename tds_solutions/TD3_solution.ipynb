{
 "cells": [
  {
   "cell_type": "markdown",
   "metadata": {},
   "source": [
    "# Exercises"
   ]
  },
  {
   "cell_type": "markdown",
   "metadata": {},
   "source": [
    "**Exercise 1:**\n",
    "\n",
    "The trace of an $m\\times m$ matrix $A$ is the sum of the diagonal elements:\n",
    "$$\n",
    "\\operatorname{trace} A = \\sum_{i=1}^m a_{ii}\n",
    "$$\n",
    "where $a_{ij}$ is the entry in the i-th row and j-th column of $A$.\n",
    "\n",
    "Show that $\\operatorname{trace}(AB) = \\operatorname{trace}(BA)$ using the formula $\\sum_{k=1}^m a_{ik} b_{kj}$ for the (i,j) entry of $AB$.  (You should be able to see a similar formula for the entries of BA.)"
   ]
  },
  {
   "cell_type": "markdown",
   "metadata": {},
   "source": [
    "**Solution** \n",
    "\n",
    "Given a matrix $M$, let $M_{ij}$ denote the row-$i$ column-$j$ entry of $M$.  Let $a_{ij} = A_{ij}$ and $b_{ij} = B_{ij}$ as suggested in the problem statement.\n",
    "\n",
    "By the definition of trace and the formula for a matrix entry of a matrix product, we have $$\\text{trace}(AB) = \\sum_{i = 1}^m (AB)_{ii} = \\sum_{i = 1}^m \\sum_{k = 1}^m a_{ik}b_{ki}.$$  Similarly, we have $$\\text{trace}(BA) = \\sum_{i = 1}^m \\sum_{k = 1}^m b_{ik}a_{ki}.$$  But as $b_{ik}a_{ki} = a_{ki}b_{ik}$ ($a_{ki}$ and $b_{ik}$ are *scalars*), we can see by just exchanging the names of the indexing variables $i$ and $k$ in the sum formula for $\\text{trace}(BA)$ that the two sums above are equal, so $\\text{trace}(AB) = \\text{trace}(BA)$."
   ]
  },
  {
   "cell_type": "markdown",
   "metadata": {},
   "source": [
    "**Exercise 2:**\n",
    "If $A$ is an m×n real matrix, $Q_m$ is any m×m real orthogonal matrix, and $Q_n$ is any n×n real orthogonal matrix, how do the singular vectors and values of $B = Q_m A Q_n^T$ relate to the singular vectors (columns of U and V) and values (σ) of $A=U\\Sigma V^T$?"
   ]
  },
  {
   "cell_type": "markdown",
   "metadata": {},
   "source": [
    "**Solution** \n",
    "\n",
    "We have $$B = Q_mAQ_n^T = Q_mU\\Sigma V^TQ_n^T = (Q_mU)\\Sigma(VQ_n)^T.$$  But the product of two orthogonal matrices is still orthogonal (why?), so $Q_mU$ and $VQ_n$ are orthogonal matrices, and $\\Sigma$ still only has zero entries on the diagonal, so this is exactly a singular value decomposition of the matrix $B$.  It follows that the singular values of $A$ and $B$ are exactly the same (they are the nonzero diagonal entries of $\\Sigma$)."
   ]
  },
  {
   "cell_type": "markdown",
   "metadata": {},
   "source": [
    "**Exercise 3:**\n",
    "\n",
    "**(a)** Find the eigenvalues and eigenvectors of\n",
    "$$\n",
    "A = \\begin{pmatrix} 1 & 4 \\\\ 2 & 3 \\end{pmatrix}, \\qquad A + 2I = \\begin{pmatrix} 3 & 4 \\\\ 2 & 5 \\end{pmatrix}\n",
    "$$\n",
    "\n",
    "**(b)** If $Ax=\\lambda x$, then what is $(A+\\alpha I)x$?   Therefore, how are the eigenvalues and eigenvectors of $A+\\alpha I$ related to those of $A$?   Is this consistent with your answer from (a)?"
   ]
  },
  {
   "cell_type": "markdown",
   "metadata": {},
   "source": [
    "**Solution** \n",
    "\n",
    "**(a)** Let's compute the characteristic polynomial: $$p_A(\\lambda) = \\det(A - \\lambda I) = \\det(\\begin{pmatrix}1 - \\lambda & 4 \\\\ 2 & 3 - \\lambda\\end{pmatrix} = (1 - \\lambda)(3 - \\lambda) - 8 = \\lambda^2 - 4\\lambda - 5 = (\\lambda - 5)(\\lambda + 1).$$  This has roots at $\\boxed{\\lambda = 5}$ and $\\boxed{\\lambda = -1}$, so these are the eigenvalues.  To find an eigenvector with eigenvalue 5, we need to find a nonzero vector $(x, y)$ such that $$\\begin{pmatrix}1 & 4 \\\\ 2 & 3 \\end{pmatrix}\\begin{pmatrix} x & y\\end{pmatrix} = \\begin{pmatrix} x + 4y \\\\ 2x + 3y\\end{pmatrix} = \\begin{pmatrix} 5x \\\\ 5y\\end{pmatrix}.$$  Eyeballing it, we see that $\\boxed{(1, 1) \\text{ is an eigenvector with eigenvalue 5}}$ (and so is any nonzero multiple of it).   We could also compute this more \"mechanically\" by finding the nullspace of $A-5I = \\begin{pmatrix} -4 & 4 \\\\ 2 & -2 \\end{pmatrix}$, but the nullspace vector (the eigenvector!) $(1,1)$ is even more obvious from this matrix.  For eigenvalue -1, we need to find some nonzero $(x, y)$ such that $$\\begin{pmatrix}1 & 4 \\\\ 2 & 3 \\end{pmatrix}\\begin{pmatrix} x & y\\end{pmatrix} = \\begin{pmatrix} x + 4y \\\\ 2x + 3y\\end{pmatrix} = \\begin{pmatrix} -x \\\\ -y\\end{pmatrix}.$$  Eyeballing it, we see that $\\boxed{(-2, 1) \\text{ is an eigenvector with eigenvalue -1}}$ (and so is any nonzero multiple of it).  Again, the more systematic procedure is to find $N(A+I)$, but since $A+I = \\begin{pmatrix} 2 & 4 \\\\ 2 & 4 \\end{pmatrix}$ the nullspace vector $(-2, 1)$ should be obvious.\n",
    "\n",
    "For $A+2I$, the characteristic polynomial is $(3-\\lambda)(5-\\lambda) - 8 = \\lambda^2 - 8\\lambda + 7 = (\\lambda - 7) (\\lambda - 1)$.   So the eigenvalues are **λ=7** and **λ=1**: the old eigenvalues **plus 2**.   If we find the eigenvectors, they are the **same** as before, since they are the nullspaces of $A+2I-7I=A-5I$ and $A+2I-I=A+I$, the same as above!\n",
    "\n",
    "**(b)** If $Ax = \\lambda x$ then $(A + \\alpha I)x = Ax + \\alpha Ix = \\lambda x + \\alpha x = \\boxed{(\\lambda + \\alpha)x}$.   That is **A+αI has the same eigenvectors as A**, and the eigenvalues λ of A become **eigenvalues λ+α of A+αI**. This agrees with part (a), taking $\\alpha = 2$ (we have 7=5+2 and 1=–1+2)."
   ]
  },
  {
   "cell_type": "markdown",
   "metadata": {},
   "source": [
    "**Exercise 4:**\n",
    "\n",
    "Here is a strange fact about 2×2 matrices with eigenvalues $\\lambda_1 \\ne \\lambda_2$: the columns of $A - \\lambda_1 I$ are multiples of the eigenvector $x_2$. \n",
    "**Why?**\n",
    "\n",
    "(Hint: think about the column and null spaces of $A - \\lambda_1 I$.)"
   ]
  },
  {
   "cell_type": "markdown",
   "metadata": {},
   "source": [
    "**Solution** \n",
    "\n",
    "Let's think about what $A - \\lambda_1 I$ does to an arbitrary vector $x$.   If we write $x = c_1 x_1 + c_2 x_2$ in the basis of the two eigenvectors of $A$ (which must be diagonalizable since the eigenvalues are distinct), then $Ax = \\lambda_1 c_1 x_1 + \\lambda_2 c_2 x_2$, and \n",
    "$$\n",
    "(A - \\lambda_1 I) x = (\\lambda_2 - \\lambda_1) c_2 x_2\n",
    "$$\n",
    "That is, the **outputs are always a multiple of x₂**!   This means that $C(A - \\lambda_1 I)$ is spanned by $x₂$: it is a **rank 1 matrix**, and so every column must be a multiple of **x₂**!\n",
    "\n",
    "Another way of seeing this is that the *whole point* of $A - \\lambda_1 I$ is to have a nullspace containing the eigenvector $x_1$.  Since the $\\lambda_2 \\ne \\lambda_1$, the nullspace does not contain $x_2$, so it is a 1d nullspace and the matrix is rank-1.  Acting on the other eigenvector, it gives a multiple of that eigenvector, so $x_2$ must span the 1d column space exactly as above.\n",
    "\n",
    "Another way of seeing this is that, from the previous exercise, $A - \\lambda_1 I$ has the same eigenvectors as A, but with $\\lambda_1$ subtracted from the eigenvalues.  So it has eigenvalues of **zero** and $\\lambda_2-\\lambda_1$: the former gives the nullspace and the latter gives the column space.\n",
    "\n",
    "The moral of this story: once you have a basis of eigenvectors, in order to understand what the matrix does, **always look at what it does to the eigenvectors**."
   ]
  },
  {
   "cell_type": "markdown",
   "metadata": {},
   "source": [
    "**Exercise 5:**\n",
    "\n",
    "If $A^TA v = \\lambda v$, multiply by $A$ and rearrange to show that **if v is an eigenvector of** $A^TA$ **then ........ is an eigenvector of** $AA^T$ **unless λ is ......**."
   ]
  },
  {
   "cell_type": "markdown",
   "metadata": {},
   "source": [
    "**Solution** \n",
    "\n",
    "Suppose $v$ is an eigenvector of $A^TA$ with eigenvalue $\\lambda$.  This means that $v \\neq 0$ and $A^TAv = \\lambda v$.  Multiplying by $A$, we get $AA^TAv = A\\lambda v$, so that $(AA^T)(Av) = \\lambda(Av).$  So, as long as $\\lambda Av \\neq 0$, then this means that $\\boxed{Av}$ is also an eigenvector of $AA^T$.  So when is $\\lambda Av \\neq 0$?  Well, we need both that $\\lambda \\neq 0$ and that $Av \\neq 0$.  But in fact the latter follows from the former.  Indeed, if $\\lambda \\neq 0$, then that $v$ is an eigenvector of $A^TA$ with eigenvalue $\\lambda$ means that $A^TAv = \\lambda v \\neq 0$, so $v$ is not in the nullspace of $A^TA$.  But $N(A^TA) = N(A)$, as we showed earlier in the course, so also $v$ is not in the nullspace of $A$, so $Av \\neq 0$.  So the second ...... is supposed to be $\\boxed{\\text{zero}}$."
   ]
  },
  {
   "cell_type": "code",
   "execution_count": null,
   "metadata": {},
   "outputs": [],
   "source": []
  }
 ],
 "metadata": {
  "kernelspec": {
   "display_name": "Python 3",
   "language": "python",
   "name": "python3"
  },
  "language_info": {
   "codemirror_mode": {
    "name": "ipython",
    "version": 3
   },
   "file_extension": ".py",
   "mimetype": "text/x-python",
   "name": "python",
   "nbconvert_exporter": "python",
   "pygments_lexer": "ipython3",
   "version": "3.7.6"
  }
 },
 "nbformat": 4,
 "nbformat_minor": 4
}
