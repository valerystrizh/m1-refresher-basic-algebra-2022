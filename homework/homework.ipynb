{
 "cells": [
  {
   "cell_type": "markdown",
   "metadata": {},
   "source": [
    "# Homework\n",
    "\n",
    "Since it easy to google every task please try to undestand what's going on."
   ]
  },
  {
   "cell_type": "markdown",
   "metadata": {},
   "source": [
    "## 1\n",
    "\n",
    "Suppose that you have the $PA=LU$ factorization of an invertible $m\\times m$ matrix $A$.   Explain how you can solve $A^T x = b$ in $\\sim m^2$ operations (i.e., without re-doing elimination on $A^T$).\n",
    "\n"
   ]
  },
  {
   "cell_type": "markdown",
   "metadata": {},
   "source": [
    "## 2\n",
    "\n",
    "Consider the matrix:\n",
    "\n",
    "$$ A = \\begin{pmatrix} 1 & 1 & 1 \\\\ 0 & 4 & 0 \\\\ 2 & 4 & 5 \\end{pmatrix} $$\n",
    "\n",
    "* What matrix $E$ puts $A$ into upper-triangular form $EA = U$?  \n",
    "* What matrix $F$ can you multiply by $A$ to put $A$ into *lower* triangular form $FA = L$? "
   ]
  },
  {
   "cell_type": "markdown",
   "metadata": {},
   "source": [
    "## 3\n",
    "Find the triangular matrix $E$ that reduces \"Pascal's matrix\" to a smaller Pascal:\n",
    "\n",
    "$$\n",
    "E \\left[ \\begin{array}{rrrr} 1 & 0 & 0 & 0 \\\\ 1 & 1 & 0 & 0 \\\\ 1 & 2 & 1 & 0 \\\\ 1 & 3 & 3 & 1 \\end{array}\\right]\n",
    "=\n",
    "\\left[ \\begin{array}{rrrr} 1 & 0 & 0 & 0 \\\\ 0 & 1 & 0 & 0 \\\\ 0 & 1 & 1 & 0 \\\\ 0 & 1 & 2 & 1 \\end{array}\\right]\n",
    "$$\n",
    "\n",
    "Which matrix $M$ (multiplying several $E$'s) reduces Pascal all the way to $I$?"
   ]
  },
  {
   "cell_type": "markdown",
   "metadata": {},
   "source": [
    "## 4\n",
    "If you take powers of a permutation matrix, why is some $P^k$ eventually equal to $I$? Find a 5 by 5 permutation P so that the smallest power to equal $I$ is $P^6$."
   ]
  },
  {
   "cell_type": "markdown",
   "metadata": {},
   "source": [
    "## 5\n",
    "There are six 3 by 3 permutation matrices $P$. What numbers can be the determinants of $P$? What numbers can be pivots? What numbers can be the trace of $P$? What four numbers can be eigenvalues of $P$?"
   ]
  },
  {
   "cell_type": "markdown",
   "metadata": {},
   "source": [
    "## 6\n",
    "Suppose $Q^T$ equals $Q^{-1}$ (transpose equals inverse, so $Q^TQ = I$).\n",
    "* (a) Show that the columns $q_1, \\dots, q_n$ are unit vectors: $||q_i||^2=1$.\n",
    "* (b) Show that every two columns of Q are perpendicular: $q_1^Tq_2=0$. \n",
    "* (c) Find a 2 by 2 example with first entry $q_{11} = cos \\theta$."
   ]
  },
  {
   "cell_type": "markdown",
   "metadata": {},
   "source": [
    "## 7\n",
    "Substitute $A=S \\Lambda S^{-1}$ into the product $(A-\\lambda_1 I)(A-\\lambda_2 I) \\dots (A-\\lambda_n I)$ and explain why this produces the zero matrix."
   ]
  },
  {
   "cell_type": "markdown",
   "metadata": {},
   "source": [
    "## 8\n",
    "\n",
    "When $A$ and $B$ are symmetric positive definite, $AB$ might not even be symmetric. But its eigenvalues are still positive. Start from $ABx$ = $\\lambda x$ and take dot products with $Bx$. Then prove $\\lambda$ > 0."
   ]
  },
  {
   "cell_type": "markdown",
   "metadata": {},
   "source": [
    "## 9\n",
    "$$ \n",
    "y = \\sum_{j=1}^{N} cx^T \\quad c \\in \\mathbb{R}^{M} ,x \\in \\mathbb{R}^{N}, cx^T \\in \\mathbb{R}^{M \\times N} \n",
    "$$\n",
    "\n",
    "$$\n",
    "\\frac{dy}{dx} =\n",
    "$$ "
   ]
  },
  {
   "cell_type": "markdown",
   "metadata": {},
   "source": [
    "## 10\n",
    "$$  \n",
    "y = x x^T x , x \\in \\mathbb{R}^{N}\n",
    "$$\n",
    "\n",
    "$$\n",
    "\\frac{dy}{dx} =\n",
    "$$"
   ]
  },
  {
   "cell_type": "code",
   "execution_count": null,
   "metadata": {},
   "outputs": [],
   "source": []
  }
 ],
 "metadata": {
  "kernelspec": {
   "display_name": "Python 3",
   "language": "python",
   "name": "python3"
  },
  "language_info": {
   "codemirror_mode": {
    "name": "ipython",
    "version": 3
   },
   "file_extension": ".py",
   "mimetype": "text/x-python",
   "name": "python",
   "nbconvert_exporter": "python",
   "pygments_lexer": "ipython3",
   "version": "3.7.6"
  }
 },
 "nbformat": 4,
 "nbformat_minor": 4
}
